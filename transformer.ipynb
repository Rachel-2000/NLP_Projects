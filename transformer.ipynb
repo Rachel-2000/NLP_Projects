{
  "nbformat": 4,
  "nbformat_minor": 0,
  "metadata": {
    "colab": {
      "provenance": [],
      "collapsed_sections": [
        "VtPuF2l0OUsB",
        "vMlllXlEOccw",
        "GIIwuMs0Okvf",
        "YRma9prsOuxK",
        "Km5SaUnpqRwS"
      ],
      "authorship_tag": "ABX9TyN6onERWk6zaqy6qshporMm",
      "include_colab_link": true
    },
    "kernelspec": {
      "name": "python3",
      "display_name": "Python 3"
    },
    "language_info": {
      "name": "python"
    }
  },
  "cells": [
    {
      "cell_type": "markdown",
      "metadata": {
        "id": "view-in-github",
        "colab_type": "text"
      },
      "source": [
        "<a href=\"https://colab.research.google.com/github/Rachel-2000/NLP_Projects/blob/main/transformer.ipynb\" target=\"_parent\"><img src=\"https://colab.research.google.com/assets/colab-badge.svg\" alt=\"Open In Colab\"/></a>"
      ]
    },
    {
      "cell_type": "code",
      "execution_count": null,
      "metadata": {
        "id": "UbogcLJ0ORS7",
        "colab": {
          "base_uri": "https://localhost:8080/"
        },
        "outputId": "048a32c8-2c78-46aa-935e-a88cbb6e9f2f"
      },
      "outputs": [
        {
          "output_type": "stream",
          "name": "stdout",
          "text": [
            "Archive:  speechesdataset.zip\n",
            "replace speechesdataset/test_CLS.tsv? [y]es, [n]o, [A]ll, [N]one, [r]ename: "
          ]
        }
      ],
      "source": [
        "!unzip -d speechesdataset speechesdataset.zip"
      ]
    },
    {
      "cell_type": "code",
      "source": [
        "import nltk\n",
        "nltk.download('punkt')"
      ],
      "metadata": {
        "id": "7EjmWhXI0JcL"
      },
      "execution_count": null,
      "outputs": []
    },
    {
      "cell_type": "markdown",
      "source": [
        "# Dataset"
      ],
      "metadata": {
        "id": "VtPuF2l0OUsB"
      }
    },
    {
      "cell_type": "code",
      "source": [
        "import os\n",
        "from torch.utils.data import Dataset\n",
        "import torch\n",
        "\n",
        "\n",
        "class SpeechesClassificationDataset(Dataset):\n",
        "    \"\"\"\n",
        "    Dataset class for text classification task.\n",
        "    This the dataset you will use to train your encoder, and classifier jointly,\n",
        "    end-to-end for the text classification task.\n",
        "\n",
        "    Args:\n",
        "        tokenizer (Tokenizer): The tokenizer used to encode the text.\n",
        "        file_path (str): The path to the file containing the speech classification data.\n",
        "\n",
        "    \"\"\"\n",
        "\n",
        "    def __init__(self, tokenizer, file_path):\n",
        "        self.tokenizer = tokenizer\n",
        "        self.samples = []\n",
        "\n",
        "        if not os.path.exists(file_path):\n",
        "            raise FileNotFoundError(f\"The file {file_path} does not exist.\")\n",
        "\n",
        "        with open(file_path, 'r', encoding='utf-8') as file:\n",
        "            for line in file:\n",
        "                label, text = line.strip().split('\\t')\n",
        "                if label not in ('0', '1', '2'):\n",
        "                    raise ValueError(f\"Invalid label: {label}\")\n",
        "                if len(text.strip()) == 0:\n",
        "                    continue\n",
        "                self.samples.append((int(label), text))\n",
        "\n",
        "    def __len__(self):\n",
        "        return len(self.samples)\n",
        "\n",
        "    def __getitem__(self, index):\n",
        "        label, text = self.samples[index]\n",
        "        input_ids = torch.tensor(self.tokenizer.encode(text), dtype=torch.long)\n",
        "        label_tensor = torch.tensor(label, dtype=torch.long)\n",
        "\n",
        "        return input_ids, label_tensor\n",
        "\n",
        "\n",
        "\n",
        "\n",
        "class LanguageModelingDataset(torch.utils.data.Dataset):\n",
        "    \"\"\"\n",
        "    Dataset class for language modeling task. This is the dataset you will use to train your encoder for the language modeling task.\n",
        "\n",
        "    Args:\n",
        "        tokenizer (Tokenizer): The tokenizer used to encode the text.\n",
        "        text (str): The text data.\n",
        "        block_size (int): The size of each block of text.\n",
        "    \"\"\"\n",
        "\n",
        "    def __init__(self, tokenizer, text, block_size):\n",
        "        self.tokenizer = tokenizer\n",
        "        self.data = torch.tensor(self.tokenizer.encode(text), dtype=torch.long)\n",
        "        self.block_size = block_size\n",
        "\n",
        "    def __len__(self):\n",
        "        return len(self.data) - self.block_size\n",
        "\n",
        "    def __getitem__(self, idx):\n",
        "        chunk = self.data[idx:idx + self.block_size + 1]\n",
        "        x = chunk[:-1] # input\n",
        "        y = chunk[1:]  # output\n",
        "        return x, y"
      ],
      "metadata": {
        "id": "n_ZUrPOpOY1i"
      },
      "execution_count": null,
      "outputs": []
    },
    {
      "cell_type": "markdown",
      "source": [
        "# Tokenizer"
      ],
      "metadata": {
        "id": "vMlllXlEOccw"
      }
    },
    {
      "cell_type": "code",
      "source": [
        "from nltk.tokenize import word_tokenize\n",
        "import os\n",
        "\n",
        "\n",
        "class SimpleTokenizer:\n",
        "    \"\"\"\n",
        "    A simple tokenizer class that builds a vocabulary from the given text and encodes/decodes text into indices.\n",
        "    \"\"\"\n",
        "\n",
        "    def __init__(self, text):\n",
        "        \"\"\"Initialize the tokenizer with the initial text to build vocabulary.\"\"\"\n",
        "        self.vocab = set()\n",
        "        self.stoi = {}\n",
        "        self.itos = {}\n",
        "        self.build_vocab(text)\n",
        "\n",
        "    def build_vocab(self, text):\n",
        "        \"\"\"Build vocabulary from the given text.\"\"\"\n",
        "        tokens = word_tokenize(text)\n",
        "        self.vocab = set(tokens)\n",
        "        self.vocab_size = len(self.vocab) + 2\n",
        "        self.stoi = {word: i for i, word in enumerate(self.vocab, start=2)}\n",
        "        self.stoi['<pad>'] = 0\n",
        "        self.stoi['<unk>'] = 1\n",
        "        self.itos = {i: word for word, i in self.stoi.items()}\n",
        "\n",
        "    def encode(self, text):\n",
        "        \"\"\"Encode the text into a list of indices.\"\"\"\n",
        "        tokens = word_tokenize(text)\n",
        "        return [self.stoi.get(word, self.stoi['<unk>']) for word in tokens]\n",
        "\n",
        "    def decode(self, indices):\n",
        "        \"\"\"Decode the list of indices back into text.\"\"\"\n",
        "        return ' '.join([self.itos.get(index, '<unk>') for index in indices])"
      ],
      "metadata": {
        "id": "SBspnyEaOfuG"
      },
      "execution_count": null,
      "outputs": []
    },
    {
      "cell_type": "markdown",
      "source": [
        "# Utilities"
      ],
      "metadata": {
        "id": "GIIwuMs0Okvf"
      }
    },
    {
      "cell_type": "code",
      "source": [
        "import matplotlib.pyplot as plt\n",
        "import torch\n",
        "\n",
        "class Utilities:\n",
        "    def __init__(self, tokenizer, model):\n",
        "        self.tokenizer = tokenizer\n",
        "        self.model = model\n",
        "\n",
        "    def sanity_check(self, sentence, block_size, status=None):\n",
        "        # Encode the sentence using the tokenizer\n",
        "        wordids = self.tokenizer.encode(sentence)\n",
        "\n",
        "        # Prepare the padded input for the model\n",
        "        padded_sentence = wordids[:block_size] + [0] * (block_size - len(wordids))\n",
        "        input_tensor = torch.tensor(padded_sentence, dtype=torch.long).unsqueeze(0)\n",
        "\n",
        "        # Display input tensor shape\n",
        "        print(\"Input tensor shape:\", input_tensor.shape)\n",
        "\n",
        "        # Process the input tensor through the encoder model\n",
        "        if status is None:\n",
        "            _,  attn_maps = self.model(input_tensor) # Ignore the output of the model, and only get the attention maps; make sure your encoder returns the attention maps\n",
        "        else:\n",
        "            _, _, attn_maps = self.model(input_tensor)\n",
        "\n",
        "        # Display the number of attention maps\n",
        "        print(\"Number of attention maps:\", len(attn_maps))\n",
        "        print(\"Shape of attention maps:\", attn_maps.shape)\n",
        "\n",
        "        # Visualize and save the attention maps\n",
        "        for j, attn_map in enumerate(attn_maps):\n",
        "            att_map = attn_map.squeeze(0).detach().cpu().numpy()  # Remove batch dimension and convert to NumPy array\n",
        "\n",
        "            # Check if the attention probabilities sum to 1 over rows\n",
        "            total_prob_over_rows = torch.sum(attn_map[0], dim=1)\n",
        "            if torch.any(total_prob_over_rows < 0.99) or torch.any(total_prob_over_rows > 1.01):\n",
        "                print(\"Failed normalization test: probabilities do not sum to 1.0 over rows\")\n",
        "                # print(\"Total probability over rows:\", total_prob_over_rows.numpy())\n",
        "                print(\"Total probability over rows:\", total_prob_over_rows.detach().numpy())\n",
        "\n",
        "            # Create a heatmap of the attention map\n",
        "            fig, ax = plt.subplots()\n",
        "            cax = ax.imshow(att_map, cmap='hot', interpolation='nearest')\n",
        "            ax.xaxis.tick_top()\n",
        "            fig.colorbar(cax, ax=ax)\n",
        "            plt.title(f\"Attention Map {j + 1}\")\n",
        "\n",
        "            # Save the plot\n",
        "            plt.savefig(f\"attention_map_{j + 1}.png\")\n",
        "\n",
        "            # Show the plot\n",
        "            plt.show()"
      ],
      "metadata": {
        "id": "Z3PC8t59OnHH"
      },
      "execution_count": null,
      "outputs": []
    },
    {
      "cell_type": "markdown",
      "source": [
        "# Models"
      ],
      "metadata": {
        "id": "tOSuaDpVOrPS"
      }
    },
    {
      "cell_type": "code",
      "source": [
        "import torch\n",
        "import torch.nn as nn\n",
        "import torch.nn.functional as F"
      ],
      "metadata": {
        "id": "aAmL72pEOyXN"
      },
      "execution_count": null,
      "outputs": []
    },
    {
      "cell_type": "code",
      "source": [
        "dropout = 0.2"
      ],
      "metadata": {
        "id": "Z-fMQASJDJuZ"
      },
      "execution_count": null,
      "outputs": []
    },
    {
      "cell_type": "code",
      "source": [
        "class Head(nn.Module):\n",
        "    def __init__(self, block_size, emb_dim, head_dim, status):\n",
        "        super().__init__()\n",
        "        self.k_w = nn.Linear(emb_dim, head_dim)\n",
        "        self.q_w = nn.Linear(emb_dim, head_dim)\n",
        "        self.v_w = nn.Linear(emb_dim, head_dim)\n",
        "        # self.k_w = nn.Linear(emb_dim, head_dim, bias=False)\n",
        "        # self.q_w = nn.Linear(emb_dim, head_dim, bias=False)\n",
        "        # self.v_w = nn.Linear(emb_dim, head_dim, bias=False)\n",
        "        # self.register_buffer(\"tril\", torch.tril(torch.ones(block_size, block_size)))\n",
        "        if status == \"decode\":\n",
        "            self.register_buffer(\"tril\", torch.tril(torch.ones(block_size, block_size)))\n",
        "        else:\n",
        "            self.register_buffer(\"tril\", None)\n",
        "\n",
        "        # self.dropout = nn.Dropout(dropout)\n",
        "\n",
        "    def forward(self, x):\n",
        "        B, T, C = x.shape\n",
        "        key = self.k_w(x) # (B,T,H), H = head_dim\n",
        "        query = self.q_w(x) # (B,T,H)\n",
        "        weights = query @ key.transpose(-2,-1) * C ** (-0.5) # (B,T,T)\n",
        "        # mask in training\n",
        "        if self.tril is not None:\n",
        "            weights = weights.masked_fill(self.tril[:T,:T] == 0, float('-inf'))\n",
        "\n",
        "        weights = F.softmax(weights, dim=-1) # softmax on last dimension, (B,T,T)\n",
        "        # weights = self.dropout(weights)\n",
        "\n",
        "        value = self.v_w(x) # (B,T,H)\n",
        "        output = weights @ value # (B,T,H)\n",
        "\n",
        "        return output, weights"
      ],
      "metadata": {
        "id": "l7Qjbt_xVMKF"
      },
      "execution_count": null,
      "outputs": []
    },
    {
      "cell_type": "code",
      "source": [
        "class MultiHead(nn.Module):\n",
        "    def __init__(self, num_head, block_size, n_embd, head_size, status):\n",
        "        super().__init__()\n",
        "        self.multi_heads = nn.ModuleList([Head(block_size, n_embd, head_size, status) for _ in range(num_head)])\n",
        "        self.proj = nn.Linear(n_embd, n_embd)\n",
        "        self.dropout = nn.Dropout(dropout)\n",
        "\n",
        "    def forward(self, x):\n",
        "        out = torch.cat([head(x)[0] for head in self.multi_heads], dim=-1)\n",
        "        attn_maps = torch.stack([head(x)[1] for head in self.multi_heads])\n",
        "        out = self.proj(out)\n",
        "        out = self.dropout(out)\n",
        "\n",
        "        return out, attn_maps"
      ],
      "metadata": {
        "id": "ASWKYoPqpjHP"
      },
      "execution_count": null,
      "outputs": []
    },
    {
      "cell_type": "code",
      "source": [
        "class FeedForward(nn.Module):\n",
        "    def __init__(self, n_embd):\n",
        "        super().__init__()\n",
        "        self.layer = nn.Sequential(\n",
        "            nn.Linear(n_embd, 4 * n_embd),\n",
        "            nn.ReLU(),\n",
        "            nn.Linear(4 * n_embd, n_embd),\n",
        "            nn.Dropout(dropout)\n",
        "        )\n",
        "\n",
        "    def forward(self, x):\n",
        "        return self.layer(x)"
      ],
      "metadata": {
        "id": "SxJD1-rBucSH"
      },
      "execution_count": null,
      "outputs": []
    },
    {
      "cell_type": "code",
      "source": [
        "class Block(nn.Module):\n",
        "    def __init__(self, n_head, block_size, n_embd, status=\"encode\"):\n",
        "        super().__init__()\n",
        "        head_size = n_embd // n_head\n",
        "        self.multi_head = MultiHead(n_head, block_size, n_embd, head_size, status)\n",
        "        self.ffn = FeedForward(n_embd)\n",
        "        self.ln1 = nn.LayerNorm(n_embd)\n",
        "        self.ln2 = nn.LayerNorm(n_embd)\n",
        "\n",
        "    def forward(self, x, pre_norm=True):\n",
        "\n",
        "        if pre_norm: # for encoder\n",
        "            out, attn_maps = self.multi_head(self.ln1(x))\n",
        "            x = x + out\n",
        "            x = x + self.ffn(self.ln2(x))\n",
        "        else: # for decoder\n",
        "            out, attn_maps = self.multi_head(x)\n",
        "            x = x + self.ffn(self.ln1(x + out))\n",
        "            x = self.ln2(x)\n",
        "\n",
        "        return x, attn_maps\n"
      ],
      "metadata": {
        "id": "3Dw-QWLi1Cc9"
      },
      "execution_count": null,
      "outputs": []
    },
    {
      "cell_type": "code",
      "source": [
        "class TransformerEncoder(nn.Module):\n",
        "    def __init__(self, n_layer, vocab_size, n_embd, block_size, n_head, device):\n",
        "        super().__init__()\n",
        "        self.token_embedding_table = nn.Embedding(vocab_size, n_embd)\n",
        "        self.position_embedding_table = nn.Embedding(block_size, n_embd)\n",
        "        # example 4 heads of 8-dimensional attention --> 32 embedding length\n",
        "        # set head_size = emb size // number of heads\n",
        "        # self.head = MultiHead(n_head, block_size, n_embd, n_embd // n_head)\n",
        "        # self.ffn = FeedForward(n_embd)\n",
        "        # self.blocks = nn.Sequential(\n",
        "        #               Block(n_head, block_size, n_embd),\n",
        "        #               Block(n_head, block_size, n_embd),\n",
        "        #               Block(n_head, block_size, n_embd),\n",
        "        #               Block(n_head, block_size, n_embd),\n",
        "        #               nn.LayerNorm(n_embd)\n",
        "        #               )\n",
        "        # self.block1 = Block(n_head, block_size, n_embd)\n",
        "        # self.block2 = Block(n_head, block_size, n_embd)\n",
        "        # self.block3 = Block(n_head, block_size, n_embd)\n",
        "        # self.block4 = Block(n_head, block_size, n_embd)\n",
        "        # self.ln = nn.LayerNorm(n_embd)\n",
        "        self.blocks = nn.ModuleList([\n",
        "            Block(n_head, block_size, n_embd) for _ in range(n_layer)\n",
        "        ])\n",
        "\n",
        "\n",
        "    def forward(self, idx, output=None):\n",
        "        B, T = idx.shape\n",
        "\n",
        "        token_emb = self.token_embedding_table(idx) # (B,T,C)\n",
        "        pos_emb = self.position_embedding_table(torch.arange(T, device=device)) # (T.C)\n",
        "        x = token_emb + pos_emb # (B,T,C)\n",
        "        attn_maps = []\n",
        "        for block in self.blocks:\n",
        "            x, attn_map = block(x)\n",
        "            attn_maps.append(attn_map)\n",
        "\n",
        "        attn_maps = torch.cat(attn_maps, dim=0)\n",
        "        # x, attn_maps1 = self.block1(x)\n",
        "        # x, attn_maps2 = self.block2(x)\n",
        "        # x, attn_maps3 = self.block3(x)\n",
        "        # x, attn_maps4 = self.block4(x)\n",
        "        # x = self.ln(x)\n",
        "        # attn_maps = torch.cat((attn_maps1, attn_maps2, attn_maps3, attn_maps4), dim=0)\n",
        "\n",
        "        return x, attn_maps\n"
      ],
      "metadata": {
        "id": "4wOSrAjy6yR1"
      },
      "execution_count": null,
      "outputs": []
    },
    {
      "cell_type": "code",
      "source": [
        "class TransformerClassifier(nn.Module):\n",
        "    def __init__(self, vocab_size, n_embd, block_size, n_head, n_layer, n_hidden, n_output, device=\"cpu\"):\n",
        "        super().__init__()\n",
        "        self.transformer_encoder = TransformerEncoder(n_layer, vocab_size, n_embd, block_size, n_head, device)\n",
        "        self.fc1 = nn.Linear(n_embd, n_hidden)\n",
        "        self.relu = nn.ReLU()\n",
        "        self.fc2 = nn.Linear(n_hidden, n_output)\n",
        "\n",
        "    def forward(self, x):\n",
        "        # x.shape = (B,T)\n",
        "        x, _ = self.transformer_encoder(x) # (B,T,C)\n",
        "        # x = self.transformer_encoder(x) # (B,T,C)\n",
        "        # mean of the embeddings across the sequence dimension T\n",
        "        x = torch.mean(x, dim=1) # (B,C)\n",
        "        x = self.fc1(x)\n",
        "        x = self.relu(x)\n",
        "        x = self.fc2(x)\n",
        "        return x"
      ],
      "metadata": {
        "id": "ViAHnr8UO5X5"
      },
      "execution_count": null,
      "outputs": []
    },
    {
      "cell_type": "code",
      "source": [
        "class TransformerDecoder(nn.Module):\n",
        "    def __init__(self, n_layer, vocab_size, n_embd, block_size, n_head, device=\"cpu\"):\n",
        "        super().__init__()\n",
        "        self.token_embedding_table = nn.Embedding(vocab_size, n_embd)\n",
        "        self.position_embedding_table = nn.Embedding(block_size, n_embd)\n",
        "        # self.block1 = Block(n_head, block_size, n_embd, status=\"decode\")\n",
        "        # self.block2 = Block(n_head, block_size, n_embd, status=\"decode\")\n",
        "        # self.block3 = Block(n_head, block_size, n_embd, status=\"decode\")\n",
        "        # self.block4 = Block(n_head, block_size, n_embd, status=\"decode\")\n",
        "        self.blocks = nn.ModuleList([\n",
        "            Block(n_head, block_size, n_embd, status=\"decode\") for _ in range(n_layer)\n",
        "        ])\n",
        "        self.ln = nn.LayerNorm(n_embd)\n",
        "        self.v_back = nn.Linear(n_embd, vocab_size) # only used in decoder\n",
        "\n",
        "    def forward(self, idx, targets=None):\n",
        "        B, T = idx.shape\n",
        "\n",
        "        token_emb = self.token_embedding_table(idx) # (B,T,C)\n",
        "        pos_emb = self.position_embedding_table(torch.arange(T, device=device)) # (T.C)\n",
        "        x = token_emb + pos_emb # (B,T,C)\n",
        "        # x, _ = self.block1(x)\n",
        "        # x, _ = self.block2(x)\n",
        "        # x, _ = self.block3(x)\n",
        "        # x, attn_maps = self.block4(x)\n",
        "        # x, attn_maps1 = self.block1(x)\n",
        "        # x, attn_maps2 = self.block2(x)\n",
        "        # x, attn_maps3 = self.block3(x)\n",
        "        # x, attn_maps4 = self.block4(x)\n",
        "        x = self.ln(x)\n",
        "        # attn_maps = torch.cat((attn_maps1, attn_maps2, attn_maps3, attn_maps4), dim=0)\n",
        "        attn_maps = []\n",
        "        for block in self.blocks:\n",
        "            x, attn_map = block(x, pre_norm=False)\n",
        "            attn_maps.append(attn_map)\n",
        "\n",
        "        attn_maps = torch.cat(attn_maps, dim=0)\n",
        "\n",
        "\n",
        "        logits = self.v_back(x) # (B,T,vocab_size)\n",
        "\n",
        "        if targets is None:\n",
        "            loss = None\n",
        "        else:\n",
        "            B, T, C = logits.shape\n",
        "            # logits = logits.view(B, C, T)\n",
        "            # logits = logits.view(-1, C)\n",
        "            logits = logits.view(B*T, C)\n",
        "            # targets = targets.view(-1)\n",
        "            targets = targets.view(B*T)\n",
        "            loss = F.cross_entropy(logits, targets)\n",
        "\n",
        "        return logits, loss, attn_maps\n",
        "\n",
        "    # def generate(self, idx, max_new_tokens, block_size):\n",
        "    #     # idx: (B,T)\n",
        "    #     for _ in range(max_new_tokens):\n",
        "    #         idx_lb = idx[:, -block_size:]\n",
        "    #         logits, _ = self(idx_lb)\n",
        "    #         logits = logits[:,-1,:] # (B,C)\n",
        "    #         probs = F.softmax(logits, dim=-1) # shape = B\n",
        "    #         idx_next = torch.multinomial(probs, num_samples=1) # (B,1)\n",
        "    #         idx = torch.cat((idx, idx_next), dim=1) # (B,T+1)\n",
        "\n",
        "    #     return idx[:, -block_size:]"
      ],
      "metadata": {
        "id": "dAagJJzQN6WP"
      },
      "execution_count": null,
      "outputs": []
    },
    {
      "cell_type": "markdown",
      "source": [
        "# Main program"
      ],
      "metadata": {
        "id": "YRma9prsOuxK"
      }
    },
    {
      "cell_type": "code",
      "source": [
        "import torch\n",
        "from torch.utils.data import DataLoader\n",
        "from torch.nn.utils.rnn import pad_sequence\n",
        "import torch.nn.functional as F\n",
        "import os\n",
        "\n",
        "# from tokenizer import SimpleTokenizer\n",
        "# from dataset import SpeechesClassificationDataset, LanguageModelingDataset\n",
        "\n",
        "\n",
        "seed = 42\n",
        "\n",
        "device = torch.device(\"cuda\" if torch.cuda.is_available() else \"cpu\")\n",
        "\n",
        "\"\"\" Hyperparameters to use for training to roughly match\n",
        "the numbers mentioned in the assignment description \"\"\"\n",
        "batch_size = 16  # Number of independent sequences  we will process in parallel\n",
        "block_size = 32  # Maximum context length for predictions\n",
        "learning_rate = 1e-3  # Learning rate for the optimizer\n",
        "n_embd = 64  # Embedding dimension\n",
        "n_head = 2  # Number of attention heads\n",
        "n_layer = 4  # Number of transformer layers\n",
        "\n",
        "\n",
        "eval_interval = 100  # How often to evaluate train and test perplexity during training\n",
        "max_iters = 500 # For language modeling, we can process all the batches for the entire dataset, but that takes a while, so we'll limit it to 500 iterations. For batch size of 16 and block size of  32, this is roughly, this is  500 * 16 * 32 = 256000 tokens, SOTA LMs are trained on trillions of tokens, so this is a very small dataset.\n",
        "eval_iters = 200  # Number of iterations to evaluate perplexity on the test set\n",
        "\n",
        "\n",
        "## classifier training hyperparameters. It is a simple 1 hidden layer feedforward network, with input\n",
        "## size of 64, hidden size of 50 and output size of 3.\n",
        "\n",
        "n_input = 64  # Input size for the classifier, should match the embedding size of the transformer\n",
        "n_hidden = 100  # Hidden size for the classifier\n",
        "n_output = 3  # Output size for the classifier, we have 3 classes\n",
        "epochs_CLS = 15 # epochs for classifier training\n",
        "\n",
        "def load_texts(directory):\n",
        "    \"\"\"\n",
        "    This function loads all texts from the specified directory, ignoring any files with \"test\" in their name. The text is used for \"training\" the tokenizer. Since our tokenizer is simple, we don't need to do any training, but we still need to ignore the test data.\n",
        "    \"\"\"\n",
        "\n",
        "    texts = []\n",
        "    files = os.listdir(directory)\n",
        "    for filename in files:\n",
        "        if \"test\" in filename:  ## don't \"read test files\"\n",
        "            continue\n",
        "        with open(os.path.join(directory, filename), 'r', encoding='utf-8') as file:\n",
        "            texts.append(file.read())\n",
        "    return texts\n",
        "\n",
        "\n",
        "\n",
        "def collate_batch(batch):\n",
        "    \"\"\" Collate a batch of data into a single tensor with padding.\"\"\"\n",
        "    data, labels = zip(*batch)  # Separate the data and labels\n",
        "    # Pad sequences to the fixed length\n",
        "    padded_sequences = pad_sequence(data, batch_first=True, padding_value=0)\n",
        "    padded_sequences = padded_sequences[:, :block_size]  # Truncate if longer\n",
        "    # Add padding if shorter\n",
        "    padded_sequences = torch.nn.functional.pad(padded_sequences, (0, max(0, block_size - padded_sequences.shape[1])), \"constant\", 0)\n",
        "    labels = torch.stack(labels)\n",
        "    return padded_sequences, labels\n",
        "\n",
        "def compute_classifier_accuracy(classifier, data_loader):\n",
        "    \"\"\" Compute the accuracy of the classifier on the data in data_loader.\"\"\"\n",
        "    classifier.eval()\n",
        "    total_correct = 0\n",
        "    total_samples = 0\n",
        "    with torch.no_grad():\n",
        "        for X, Y in data_loader:\n",
        "            X, Y = X.to(device), Y.to(device)\n",
        "            outputs = classifier(X)\n",
        "            _, predicted = torch.max(outputs.data, 1)\n",
        "            total_correct += (predicted == Y).sum().item()\n",
        "            total_samples += Y.size(0)\n",
        "        accuracy = (100 * total_correct / total_samples)\n",
        "        classifier.train()\n",
        "        return accuracy\n",
        "\n",
        "\n",
        "def compute_perplexity(decoderLMmodel, data_loader, eval_iters=100):\n",
        "    \"\"\" Compute the perplexity of the decoderLMmodel on the data in data_loader.\n",
        "    Make sure to use the cross entropy loss for the decoderLMmodel.\n",
        "    \"\"\"\n",
        "    decoderLMmodel.eval()\n",
        "    losses= []\n",
        "    for X, Y in data_loader:\n",
        "        X, Y = X.to(device), Y.to(device)\n",
        "        _, loss, _ = decoderLMmodel(X, Y) # your model should be computing the cross entropy loss\n",
        "        losses.append(loss.item())\n",
        "        # total_loss += loss.item()\n",
        "        if len(losses) >= eval_iters: break\n",
        "\n",
        "\n",
        "    losses = torch.tensor(losses)\n",
        "    mean_loss = losses.mean()\n",
        "    perplexity = torch.exp(mean_loss).item()  # Calculate perplexity as exp(mean loss)\n",
        "\n",
        "    decoderLMmodel.train()\n",
        "    return perplexity\n",
        "\n",
        "# def main():\n",
        "\n",
        "#     print(\"Loading data and creating tokenizer ...\")\n",
        "#     texts = load_texts('speechesdataset')\n",
        "#     tokenizer = SimpleTokenizer(' '.join(texts)) # create a tokenizer from the data\n",
        "#     print(\"Vocabulary size is\", tokenizer.vocab_size)\n",
        "\n",
        "#     train_CLS_dataset = SpeechesClassificationDataset(tokenizer, \"speechesdataset/train_CLS.tsv\")\n",
        "#     train_CLS_loader = DataLoader(train_CLS_dataset, batch_size=batch_size,collate_fn=collate_batch,shuffle=True)\n",
        "\n",
        "\n",
        "#     inputfile = \"speechesdataset/train_LM.txt\"\n",
        "#     with open(inputfile, 'r', encoding='utf-8') as f:\n",
        "#         lmtrainText = f.read()\n",
        "#     train_LM_dataset = LanguageModelingDataset(tokenizer, lmtrainText,  block_size)\n",
        "#     train_LM_loader = DataLoader(train_LM_dataset, batch_size=batch_size, shuffle=True)\n",
        "\n",
        "#     # for the classification  task, you will train for a fixed number of epochs like this:\n",
        "#     # parameters: vocab_size, n_embd, block_size, n_head, n_layer, n_hidden, n_output, device\n",
        "#     model = TransformerClassifier(\n",
        "#                                   tokenizer.vocab_size,\n",
        "#                                   n_embd, block_size,\n",
        "#                                   n_head,\n",
        "#                                   n_layer,\n",
        "#                                   n_hidden,\n",
        "#                                   n_output,\n",
        "#                                   device)\n",
        "\n",
        "\n",
        "#     # Define optimizer and loss function\n",
        "#     cls_optimizer = torch.optim.Adam(model.parameters(), lr=learning_rate)\n",
        "#     cls_loss_fn = torch.nn.CrossEntropyLoss()\n",
        "\n",
        "#     for epoch in range(epochs_CLS):\n",
        "#         for xb, yb in train_CLS_loader:\n",
        "#             xb, yb = xb.to(device), yb.to(device)\n",
        "#             # CLS training code here\n",
        "#             cls_optimizer.zero_grad()\n",
        "#             outputs = model(xb)\n",
        "\n",
        "#             # loss\n",
        "#             loss = cls_loss_fn(outputs, yb)\n",
        "\n",
        "#             # back propagation\n",
        "#             loss.backward()\n",
        "#             cls_optimizer.step()\n",
        "\n",
        "    ######### evaluate accuracy of classifier on test dataset\n",
        "    # test_CLS_dataset = SpeechesClassificationDataset(tokenizer, \"speechesdataset/test_CLS.tsv\")\n",
        "    # test_CLS_loader = DataLoader(test_CLS_dataset, batch_size=batch_size,collate_fn=collate_batch,shuffle=True)\n",
        "\n",
        "    # accuracy = compute_classifier_accuracy(model, test_CLS_loader)\n",
        "    # print(f\"Classifier training accuracy: {accuracy}%\")\n",
        "\n",
        "\n",
        "    # for the language modeling task, you will iterate over the training data for a fixed number of iterations like this:\n",
        "    # for i, (xb, yb) in enumerate(train_LM_loader):\n",
        "    #     if i >= max_iters:\n",
        "    #         break\n",
        "    #     xb, yb = xb.to(device), yb.to(device)\n",
        "        # LM training code here\n",
        "\n",
        "\n",
        "\n",
        "\n",
        "\n",
        "# if __name__ == \"__main__\":\n",
        "#     main()\n"
      ],
      "metadata": {
        "id": "ycXrUiyPOxYK"
      },
      "execution_count": null,
      "outputs": []
    },
    {
      "cell_type": "markdown",
      "source": [
        "# PART 1: Encoder Trained With Classifier"
      ],
      "metadata": {
        "id": "Km5SaUnpqRwS"
      }
    },
    {
      "cell_type": "code",
      "source": [
        "print(\"Loading data and creating tokenizer ...\")\n",
        "texts = load_texts('speechesdataset')\n",
        "tokenizer = SimpleTokenizer(' '.join(texts)) # create a tokenizer from the data\n",
        "print(\"Vocabulary size is\", tokenizer.vocab_size)\n",
        "\n",
        "train_CLS_dataset = SpeechesClassificationDataset(tokenizer, \"speechesdataset/train_CLS.tsv\")\n",
        "train_CLS_loader = DataLoader(train_CLS_dataset, batch_size=batch_size,collate_fn=collate_batch,shuffle=True)\n",
        "\n",
        "\n",
        "inputfile = \"speechesdataset/train_LM.txt\"\n",
        "with open(inputfile, 'r', encoding='utf-8') as f:\n",
        "    lmtrainText = f.read()\n",
        "train_LM_dataset = LanguageModelingDataset(tokenizer, lmtrainText,  block_size)\n",
        "train_LM_loader = DataLoader(train_LM_dataset, batch_size=batch_size, shuffle=True)"
      ],
      "metadata": {
        "colab": {
          "base_uri": "https://localhost:8080/"
        },
        "id": "NgW9_RW0HyuN",
        "outputId": "542e618c-ef31-4d13-bd76-27c0acf7d577"
      },
      "execution_count": null,
      "outputs": [
        {
          "output_type": "stream",
          "name": "stdout",
          "text": [
            "Loading data and creating tokenizer ...\n",
            "Vocabulary size is 5755\n"
          ]
        }
      ]
    },
    {
      "cell_type": "code",
      "source": [
        "# for the classification  task, you will train for a fixed number of epochs like this:\n",
        "# parameters: vocab_size, n_embd, block_size, n_head, n_layer, n_hidden, n_output, device\n",
        "model = TransformerClassifier(\n",
        "                              tokenizer.vocab_size,\n",
        "                              n_embd,\n",
        "                              block_size,\n",
        "                              n_head,\n",
        "                              n_layer,\n",
        "                              n_hidden,\n",
        "                              n_output,\n",
        "                              device,\n",
        "                              )\n",
        "\n",
        "# Define optimizer and loss function\n",
        "cls_optimizer = torch.optim.Adam(model.parameters(), lr=learning_rate)\n",
        "cls_loss_fn = torch.nn.CrossEntropyLoss()\n",
        "\n",
        "for epoch in range(epochs_CLS):\n",
        "    total_loss = 0.0\n",
        "    for xb, yb in train_CLS_loader:\n",
        "        xb, yb = xb.to(device), yb.to(device)\n",
        "        # CLS training code here\n",
        "        cls_optimizer.zero_grad()\n",
        "        outputs = model(xb)\n",
        "\n",
        "        # loss\n",
        "        loss = cls_loss_fn(outputs, yb)\n",
        "\n",
        "        # back propagation\n",
        "        loss.backward()\n",
        "        cls_optimizer.step()\n",
        "\n",
        "        total_loss += loss.item()\n",
        "\n",
        "    avg_loss = total_loss / len(train_CLS_loader)\n",
        "    print(f\"Epoch {epoch+1}/{epochs_CLS}, Train Loss: {avg_loss:.4f}\")"
      ],
      "metadata": {
        "colab": {
          "base_uri": "https://localhost:8080/"
        },
        "id": "C0FUo3eD5vWq",
        "outputId": "14f9e36c-53c3-4701-c27d-83a31f5151ef"
      },
      "execution_count": null,
      "outputs": [
        {
          "output_type": "stream",
          "name": "stdout",
          "text": [
            "Epoch 1/15, Train Loss: 1.0799\n",
            "Epoch 2/15, Train Loss: 1.0399\n",
            "Epoch 3/15, Train Loss: 0.9682\n",
            "Epoch 4/15, Train Loss: 0.8765\n",
            "Epoch 5/15, Train Loss: 0.7822\n",
            "Epoch 6/15, Train Loss: 0.6388\n",
            "Epoch 7/15, Train Loss: 0.5010\n",
            "Epoch 8/15, Train Loss: 0.3554\n",
            "Epoch 9/15, Train Loss: 0.3031\n",
            "Epoch 10/15, Train Loss: 0.2175\n",
            "Epoch 11/15, Train Loss: 0.1393\n",
            "Epoch 12/15, Train Loss: 0.1119\n",
            "Epoch 13/15, Train Loss: 0.0730\n",
            "Epoch 14/15, Train Loss: 0.0732\n",
            "Epoch 15/15, Train Loss: 0.0713\n"
          ]
        }
      ]
    },
    {
      "cell_type": "code",
      "source": [
        "######### evaluate accuracy of classifier on test dataset\n",
        "test_CLS_dataset = SpeechesClassificationDataset(tokenizer, \"speechesdataset/test_CLS.tsv\")\n",
        "test_CLS_loader = DataLoader(test_CLS_dataset, batch_size=batch_size,collate_fn=collate_batch,shuffle=True)\n",
        "\n",
        "accuracy = compute_classifier_accuracy(model, test_CLS_loader)\n",
        "print(f\"Classifier training accuracy: {accuracy}%\")"
      ],
      "metadata": {
        "colab": {
          "base_uri": "https://localhost:8080/"
        },
        "id": "_Kosc-bh5wDm",
        "outputId": "f2f3441f-a499-4b5c-ac03-109313b5fd07"
      },
      "execution_count": null,
      "outputs": [
        {
          "output_type": "stream",
          "name": "stdout",
          "text": [
            "Classifier training accuracy: 86.0%\n"
          ]
        }
      ]
    },
    {
      "cell_type": "code",
      "source": [
        "utility = Utilities(tokenizer, model.transformer_encoder)\n",
        "# utility.sanity_check(\"Fortune knocks once at everyone's door\", block_size)\n",
        "utility.sanity_check(\"And despite the costs involved, America's commitment will not weaken.\", block_size)"
      ],
      "metadata": {
        "colab": {
          "base_uri": "https://localhost:8080/",
          "height": 1000
        },
        "id": "MRfq61UO52b7",
        "outputId": "d0a633ca-8b72-4a82-b234-edbfab085f1c"
      },
      "execution_count": null,
      "outputs": [
        {
          "output_type": "stream",
          "name": "stdout",
          "text": [
            "Input tensor shape: torch.Size([1, 32])\n",
            "Number of attention maps: 8\n",
            "Shape of attention maps: torch.Size([8, 1, 32, 32])\n"
          ]
        },
        {
          "output_type": "display_data",
          "data": {
            "text/plain": [
              "<Figure size 640x480 with 2 Axes>"
            ],
            "image/png": "[encoded data removed]"
          },
          "metadata": {}
        },
        {
          "output_type": "display_data",
          "data": {
            "text/plain": [
              "<Figure size 640x480 with 2 Axes>"
            ],
            "image/png": "[encoded data removed]"
          },
          "metadata": {}
        },
        {
          "output_type": "display_data",
          "data": {
            "text/plain": [
              "<Figure size 640x480 with 2 Axes>"
            ],
            "image/png": "[encoded data removed]"
          },
          "metadata": {}
        },
        {
          "output_type": "display_data",
          "data": {
            "text/plain": [
              "<Figure size 640x480 with 2 Axes>"
            ],
            "image/png": "[encoded data removed]"
          },
          "metadata": {}
        },
        {
          "output_type": "display_data",
          "data": {
            "text/plain": [
              "<Figure size 640x480 with 2 Axes>"
            ],
            "image/png": "[encoded data removed]"
          },
          "metadata": {}
        },
        {
          "output_type": "display_data",
          "data": {
            "text/plain": [
              "<Figure size 640x480 with 2 Axes>"
            ],
            "image/png": "[encoded data removed]"
          },
          "metadata": {}
        },
        {
          "output_type": "display_data",
          "data": {
            "text/plain": [
              "<Figure size 640x480 with 2 Axes>"
            ],
            "image/png": "[encoded data removed]"
          },
          "metadata": {}
        },
        {
          "output_type": "display_data",
          "data": {
            "text/plain": [
              "<Figure size 640x480 with 2 Axes>"
            ],
            "image/png": "[encoded data removed]"
          },
          "metadata": {}
        }
      ]
    },
    {
      "cell_type": "code",
      "source": [],
      "metadata": {
        "id": "QaeM_gFkCKQE"
      },
      "execution_count": null,
      "outputs": []
    },
    {
      "cell_type": "markdown",
      "source": [
        "# PART 2: Pretraining Decoder Language Model"
      ],
      "metadata": {
        "id": "l0zH10AaZKa6"
      }
    },
    {
      "cell_type": "code",
      "source": [
        "# for the language modeling task, you will iterate over the training data for a fixed number of iterations like this:\n",
        "decoder = TransformerDecoder(\n",
        "                            n_layer,\n",
        "                            tokenizer.vocab_size,\n",
        "                            n_embd,\n",
        "                            block_size,\n",
        "                            n_head,\n",
        "                            device)\n",
        "\n",
        "lm_optimizer = torch.optim.AdamW(decoder.parameters(), lr=1e-3)\n",
        "# lm_loss_fn = torch.nn.CrossEntropyLoss()\n",
        "total_loss = 0.0\n",
        "max_iters = 500\n",
        "for i, (xb, yb) in enumerate(train_LM_loader):\n",
        "    if i >= max_iters:\n",
        "        break\n",
        "    xb, yb = xb.to(device), yb.to(device)\n",
        "\n",
        "    # LM training code here\n",
        "    lm_optimizer.zero_grad()\n",
        "    # logits, _ = decoder(xb)  # Compute logits\n",
        "    _, loss, _ = decoder(xb, yb)\n",
        "    # loss = lm_loss_fn(logits.view(-1, tokenizer.vocab_size), yb.view(-1))  # Compute loss\n",
        "    loss.backward()  # Backpropagation\n",
        "    lm_optimizer.step()  # Update weights\n",
        "\n",
        "    total_loss += loss.item()\n",
        "\n",
        "    if (i+1) % 100 == 0:\n",
        "        avg_loss = total_loss / (i+1)\n",
        "        perplexity = compute_perplexity(decoder, train_LM_loader)\n",
        "        print(f\"Iters {i+1}/{max_iters}, Train Loss: {avg_loss:.4f}, Decoder perplexity: {perplexity}\")"
      ],
      "metadata": {
        "colab": {
          "base_uri": "https://localhost:8080/"
        },
        "id": "iP_OxnI3CKnp",
        "outputId": "96da78af-ee8d-4a1f-d3cb-75f0841839d9"
      },
      "execution_count": null,
      "outputs": [
        {
          "output_type": "stream",
          "name": "stdout",
          "text": [
            "Iters 100/500, Train Loss: 6.8824, Decoder perplexity: 512.2928466796875\n",
            "Iters 200/500, Train Loss: 6.4787, Decoder perplexity: 359.4458312988281\n",
            "Iters 300/500, Train Loss: 6.2313, Decoder perplexity: 257.6733093261719\n",
            "Iters 500/500, Train Loss: 5.8802, Decoder perplexity: 157.73350524902344\n"
          ]
        }
      ]
    },
    {
      "cell_type": "code",
      "source": [
        "inputfile = \"speechesdataset/test_LM_obama.txt\"\n",
        "with open(inputfile, 'r', encoding='utf-8') as f:\n",
        "    lmtestText = f.read()\n",
        "test_LM_dataset = LanguageModelingDataset(tokenizer, lmtestText,  block_size)\n",
        "test_LM_loader = DataLoader(test_LM_dataset, batch_size=batch_size, shuffle=True)\n",
        "perplexity = compute_perplexity(decoder, test_LM_loader)\n",
        "print(f\"Decoder perplexity: {perplexity}\")"
      ],
      "metadata": {
        "colab": {
          "base_uri": "https://localhost:8080/"
        },
        "id": "-3W6Q9wrVzmo",
        "outputId": "8a057585-9151-4515-f6f4-edbe90a035bd"
      },
      "execution_count": null,
      "outputs": [
        {
          "output_type": "stream",
          "name": "stdout",
          "text": [
            "Decoder perplexity: 360.4278869628906\n"
          ]
        }
      ]
    },
    {
      "cell_type": "code",
      "source": [
        "inputfile = \"speechesdataset/test_LM_hbush.txt\"\n",
        "with open(inputfile, 'r', encoding='utf-8') as f:\n",
        "    lmtestText = f.read()\n",
        "test_LM_dataset = LanguageModelingDataset(tokenizer, lmtestText,  block_size)\n",
        "test_LM_loader = DataLoader(test_LM_dataset, batch_size=batch_size, shuffle=True)\n",
        "perplexity = compute_perplexity(decoder, test_LM_loader)\n",
        "print(f\"Decoder perplexity: {perplexity}\")"
      ],
      "metadata": {
        "colab": {
          "base_uri": "https://localhost:8080/"
        },
        "id": "SlV5tMrQOJoN",
        "outputId": "6016e269-a723-4772-fc2b-8bc1bfd43502"
      },
      "execution_count": null,
      "outputs": [
        {
          "output_type": "stream",
          "name": "stdout",
          "text": [
            "Decoder perplexity: 409.0628356933594\n"
          ]
        }
      ]
    },
    {
      "cell_type": "code",
      "source": [
        "inputfile = \"speechesdataset/test_LM_wbush.txt\"\n",
        "with open(inputfile, 'r', encoding='utf-8') as f:\n",
        "    lmtestText = f.read()\n",
        "test_LM_dataset = LanguageModelingDataset(tokenizer, lmtestText,  block_size)\n",
        "test_LM_loader = DataLoader(test_LM_dataset, batch_size=batch_size, shuffle=True)\n",
        "perplexity = compute_perplexity(decoder, test_LM_loader)\n",
        "print(f\"Decoder perplexity: {perplexity}\")"
      ],
      "metadata": {
        "colab": {
          "base_uri": "https://localhost:8080/"
        },
        "id": "asNm-3NmOK_H",
        "outputId": "8e22c58f-befa-44c7-f82c-6b2091fd2d08"
      },
      "execution_count": null,
      "outputs": [
        {
          "output_type": "stream",
          "name": "stdout",
          "text": [
            "Decoder perplexity: 476.1165771484375\n"
          ]
        }
      ]
    },
    {
      "cell_type": "code",
      "source": [
        "utility = Utilities(tokenizer, decoder)\n",
        "utility.sanity_check(\"I want to eat an\", block_size, \"decoder\")"
      ],
      "metadata": {
        "colab": {
          "base_uri": "https://localhost:8080/",
          "height": 1000
        },
        "id": "EMJddZC3LJFE",
        "outputId": "adb0a0d3-1340-45b1-c80d-0889183c1969"
      },
      "execution_count": null,
      "outputs": [
        {
          "output_type": "stream",
          "name": "stdout",
          "text": [
            "Input tensor shape: torch.Size([1, 32])\n",
            "Number of attention maps: 8\n",
            "Shape of attention maps: torch.Size([8, 1, 32, 32])\n"
          ]
        },
        {
          "output_type": "display_data",
          "data": {
            "text/plain": [
              "<Figure size 640x480 with 2 Axes>"
            ],
            "image/png": "[encoded data removed]"
          },
          "metadata": {}
        },
        {
          "output_type": "display_data",
          "data": {
            "text/plain": [
              "<Figure size 640x480 with 2 Axes>"
            ],
            "image/png": "[encoded data removed]"
          },
          "metadata": {}
        },
        {
          "output_type": "display_data",
          "data": {
            "text/plain": [
              "<Figure size 640x480 with 2 Axes>"
            ],
            "image/png": "[encoded data removed]"
          },
          "metadata": {}
        },
        {
          "output_type": "display_data",
          "data": {
            "text/plain": [
              "<Figure size 640x480 with 2 Axes>"
            ],
            "image/png": "[encoded data removed]"
          },
          "metadata": {}
        },
        {
          "output_type": "display_data",
          "data": {
            "text/plain": [
              "<Figure size 640x480 with 2 Axes>"
            ],
            "image/png": "[encoded data removed]"
          },
          "metadata": {}
        },
        {
          "output_type": "display_data",
          "data": {
            "text/plain": [
              "<Figure size 640x480 with 2 Axes>"
            ],
            "image/png": "[encoded data removed]"
          },
          "metadata": {}
        },
        {
          "output_type": "display_data",
          "data": {
            "text/plain": [
              "<Figure size 640x480 with 2 Axes>"
            ],
            "image/png": "[encoded data removed]"
          },
          "metadata": {}
        },
        {
          "output_type": "display_data",
          "data": {
            "text/plain": [
              "<Figure size 640x480 with 2 Axes>"
            ],
            "image/png": "[encoded data removed]"
          },
          "metadata": {}
        }
      ]
    },
    {
      "cell_type": "markdown",
      "source": [
        "# PART 3: Exploration"
      ],
      "metadata": {
        "id": "SHWFDiGyqA8l"
      }
    },
    {
      "cell_type": "markdown",
      "source": [
        "### Architecture: AliBi positional encoding"
      ],
      "metadata": {
        "id": "8-kec5TDiiKO"
      }
    },
    {
      "cell_type": "code",
      "source": [
        "import numpy as np\n",
        "\n",
        "def positional_encoding(max_seq_len, emb_dim):\n",
        "    encoding = np.zeros((max_seq_len, emb_dim))\n",
        "    for pos in range(max_seq_len):\n",
        "        for i in range(emb_dim):\n",
        "            if i % 2 == 0:\n",
        "                encoding[pos, i] = np.sin(pos / 10000**(2*i / emb_dim))\n",
        "            else:\n",
        "                encoding[pos, i] = np.cos(pos / 10000**(2*i / emb_dim))\n",
        "    return encoding"
      ],
      "metadata": {
        "id": "48-3txRSqhkR"
      },
      "execution_count": null,
      "outputs": []
    },
    {
      "cell_type": "code",
      "source": [
        "def get_relative_positions(seq_len: int) -> torch.tensor:\n",
        "    x = torch.arange(seq_len)[None, :]\n",
        "    y = torch.arange(seq_len)[:, None]\n",
        "    return x - y\n",
        "\n",
        "\n",
        "def get_alibi_slope(num_heads):\n",
        "    x = (2 ** 8) ** (1 / num_heads)\n",
        "    return (\n",
        "        torch.tensor([1 / x ** (i + 1) for i in range(num_heads)])\n",
        "        .unsqueeze(-1)\n",
        "        .unsqueeze(-1)\n",
        "    )"
      ],
      "metadata": {
        "id": "XxPtTqIWxUff"
      },
      "execution_count": null,
      "outputs": []
    },
    {
      "cell_type": "code",
      "source": [
        "import math\n",
        "\n",
        "def get_slopes(n_head):\n",
        "    def get_slopes_power_of_2(n_head):\n",
        "        start = (2**(-2**-(math.log2(n_head)-3)))\n",
        "        ratio = start\n",
        "        return [start*ratio**i for i in range(n_head)]\n",
        "\n",
        "    if math.log2(n_head).is_integer():\n",
        "        return get_slopes_power_of_2(n_head)\n",
        "    else:\n",
        "        closest_power_of_2 = 2**math.floor(math.log2(n_head))\n",
        "        return get_slopes_power_of_2(closest_power_of_2) + get_slopes(2*closest_power_of_2)[0::2][:n_head-closest_power_of_2]"
      ],
      "metadata": {
        "id": "4r6LblmuPdgc"
      },
      "execution_count": null,
      "outputs": []
    },
    {
      "cell_type": "code",
      "source": [
        "def position_encoding(\n",
        "    seq_len: int, dim_model: int, device: torch.device = torch.device(\"cpu\")):\n",
        "    pos = torch.arange(seq_len, dtype=torch.float, device=device).reshape(1, -1, 1)\n",
        "    dim = torch.arange(dim_model, dtype=torch.float, device=device).reshape(1, 1, -1)\n",
        "    phase = pos / (1e4 ** (dim / dim_model))\n",
        "\n",
        "    return torch.where(dim.long() % 2 == 0, torch.sin(phase), torch.cos(phase))"
      ],
      "metadata": {
        "id": "YQBqt8IIm14-"
      },
      "execution_count": null,
      "outputs": []
    },
    {
      "cell_type": "code",
      "source": [
        "class TransformerDecoder(nn.Module):\n",
        "    def __init__(self, n_layer, vocab_size, n_embd, block_size, n_head, device=\"cpu\", position=\"default\"):\n",
        "        super().__init__()\n",
        "        self.token_embedding_table = nn.Embedding(vocab_size, n_embd)\n",
        "        if position == \"default\":\n",
        "            self.position_embedding_table = nn.Embedding(block_size, n_embd)\n",
        "        else:\n",
        "            self.position_embedding_table = None\n",
        "\n",
        "        # self.position_embedding_table = AlibiPositionalEncoding(block_size, n_embd)\n",
        "        self.blocks = nn.ModuleList([\n",
        "            Block(n_head, block_size, n_embd, status=\"decode\") for _ in range(n_layer)\n",
        "        ])\n",
        "        self.v_back = nn.Linear(n_embd, vocab_size) # only used in decoder\n",
        "\n",
        "    def forward(self, idx, targets=None):\n",
        "        B, T = idx.shape\n",
        "\n",
        "        token_emb = self.token_embedding_table(idx) # (B,T,C)\n",
        "        if self.position_embedding_table is not None:\n",
        "            pos_emb = self.position_embedding_table(torch.arange(T, device=device)) # (T.C)\n",
        "            # pos_emb = torch.tensor(positional_encoding(block_size, n_embd), device=device, dtype=token_emb.dtype) # (T.C)\n",
        "            # pos_emb = position_encoding(T, n_embd)\n",
        "            x = token_emb + pos_emb # (B,T,C)\n",
        "        else:\n",
        "            x = token_emb\n",
        "\n",
        "        attn_maps = []\n",
        "        for block in self.blocks:\n",
        "            x, attn_map = block(x)\n",
        "            attn_maps.append(attn_map)\n",
        "\n",
        "        attn_maps = torch.cat(attn_maps, dim=0)\n",
        "\n",
        "\n",
        "        logits = self.v_back(x) # (B,T,vocab_size)\n",
        "\n",
        "        if targets is None:\n",
        "            loss = None\n",
        "        else:\n",
        "            B, T, C = logits.shape\n",
        "            logits = logits.view(B, C, T)\n",
        "            loss = F.cross_entropy(logits, targets)\n",
        "\n",
        "        return logits, loss, attn_maps"
      ],
      "metadata": {
        "id": "nSHM66XqiAOu"
      },
      "execution_count": null,
      "outputs": []
    },
    {
      "cell_type": "code",
      "source": [
        "class Head(nn.Module):\n",
        "    def __init__(self, block_size, emb_dim, head_dim, head_id, status):\n",
        "        super().__init__()\n",
        "        self.k_w = nn.Linear(emb_dim, head_dim)\n",
        "        self.q_w = nn.Linear(emb_dim, head_dim)\n",
        "        self.v_w = nn.Linear(emb_dim, head_dim)\n",
        "        if status == \"decode\":\n",
        "            self.register_buffer(\"tril\", torch.tril(torch.ones(block_size, block_size)))\n",
        "        else:\n",
        "            self.register_buffer(\"tril\", None)\n",
        "\n",
        "        context_position = torch.arange(block_size)[:, None]\n",
        "        memory_position = torch.arange(block_size)[None, :]\n",
        "        relative_position = memory_position - context_position # the triangle matrix\n",
        "\n",
        "        n_head = emb_dim // head_dim\n",
        "        relative_position = torch.abs(relative_position).unsqueeze(0).expand(n_head, -1,-1)\n",
        "        # print(\"relative_position\", relative_position.shape)\n",
        "\n",
        "        slopes = torch.Tensor(get_slopes(n_head))*-1\n",
        "        alibi = slopes.unsqueeze(1).unsqueeze(1) * relative_position\n",
        "        # self.alibi = self.alibi.view(1, 1, block_size, block_size)\n",
        "        alibi = alibi.view(n_head, block_size, block_size)\n",
        "        self.register_buffer(\"alibi\", alibi[head_id])\n",
        "        # print(\"alibi shape\", self.alibi.shape)\n",
        "\n",
        "        # self.dropout = nn.Dropout(dropout)\n",
        "\n",
        "    def forward(self, x):\n",
        "        B, T, C = x.shape\n",
        "        key = self.k_w(x) # (B,T,H), H = head_dim\n",
        "        query = self.q_w(x) # (B,T,H)\n",
        "        weights = query @ key.transpose(-2,-1) * C ** (-0.5) # (B,T,T)\n",
        "\n",
        "        weights += self.alibi[:T,:T].to(weights)\n",
        "        # weights += self.alibi[:,:,:T,:T].to(weights)\n",
        "        # attn_weights = attn_weights.view(bsz*self.num_heads, tgt_len, src_len)\n",
        "\n",
        "        # mask in training\n",
        "        if self.tril is not None:\n",
        "            weights.masked_fill(self.tril[:T, :T] == 0, float('-inf'))\n",
        "\n",
        "        weights = F.softmax(weights, dim=-1) # softmax on last dimension, (B,T,T)\n",
        "        # weights = self.dropout(weights)\n",
        "\n",
        "        value = self.v_w(x) # (B,T,H)\n",
        "        output = weights @ value # (B,T,H)\n",
        "\n",
        "        return output, weights"
      ],
      "metadata": {
        "id": "s7SX8I33dYcw"
      },
      "execution_count": null,
      "outputs": []
    },
    {
      "cell_type": "code",
      "source": [
        "class MultiHead(nn.Module):\n",
        "    def __init__(self, num_head, block_size, n_embd, head_size, status):\n",
        "        super().__init__()\n",
        "        self.multi_heads = nn.ModuleList([Head(block_size, n_embd, head_size, head_id=i, status=status) for i in range(num_head)])\n",
        "        self.proj = nn.Linear(n_embd, n_embd)\n",
        "        # self.dropout = nn.Dropout(dropout)\n",
        "\n",
        "    def forward(self, x):\n",
        "        out = torch.cat([head(x)[0] for head in self.multi_heads], dim=-1)\n",
        "        attn_maps = torch.stack([head(x)[1] for head in self.multi_heads])\n",
        "        out = self.proj(out)\n",
        "        # out = self.dropout(out)\n",
        "\n",
        "        return out, attn_maps"
      ],
      "metadata": {
        "id": "sExK1Tqv2ZB3"
      },
      "execution_count": null,
      "outputs": []
    },
    {
      "cell_type": "code",
      "source": [
        "decoder = TransformerDecoder(\n",
        "                            n_layer,\n",
        "                            tokenizer.vocab_size,\n",
        "                            n_embd,\n",
        "                            block_size,\n",
        "                            n_head,\n",
        "                            device,\n",
        "                            )\n",
        "\n",
        "lm_optimizer = torch.optim.Adam(decoder.parameters(), lr=2e-3)\n",
        "# lm_loss_fn = torch.nn.CrossEntropyLoss()\n",
        "total_loss = 0.0\n",
        "max_iters=500\n",
        "for i, (xb, yb) in enumerate(train_LM_loader):\n",
        "    if i >= max_iters:\n",
        "        break\n",
        "    xb, yb = xb.to(device), yb.to(device)\n",
        "\n",
        "    # LM training code here\n",
        "    lm_optimizer.zero_grad()\n",
        "    # logits, _ = decoder(xb)  # Compute logits\n",
        "    _, loss, _ = decoder(xb, yb)\n",
        "    # loss = lm_loss_fn(logits.view(-1, tokenizer.vocab_size), yb.view(-1))  # Compute loss\n",
        "    loss.backward()  # Backpropagation\n",
        "    lm_optimizer.step()  # Update weights\n",
        "\n",
        "    total_loss += loss.item()\n",
        "\n",
        "    if (i+1) % 100 == 0:\n",
        "        avg_loss = total_loss / (i+1)\n",
        "        perplexity = compute_perplexity(decoder, train_LM_loader)\n",
        "        print(f\"Iters {i+1}/{max_iters}, Train Loss: {avg_loss:.4f}, Decoder perplexity: {perplexity}\")"
      ],
      "metadata": {
        "colab": {
          "base_uri": "https://localhost:8080/"
        },
        "outputId": "ec794b5e-0b35-4e3f-d2d3-7eaf72f91a86",
        "id": "NRlli0l_dbuo"
      },
      "execution_count": null,
      "outputs": [
        {
          "output_type": "stream",
          "name": "stdout",
          "text": [
            "Iters 100/500, Train Loss: 7.7006, Decoder perplexity: 1247.327392578125\n",
            "Iters 200/500, Train Loss: 7.2779, Decoder perplexity: 673.9107666015625\n",
            "Iters 300/500, Train Loss: 6.9545, Decoder perplexity: 425.481201171875\n",
            "Iters 400/500, Train Loss: 6.7045, Decoder perplexity: 322.1737976074219\n",
            "Iters 500/500, Train Loss: 6.5126, Decoder perplexity: 259.52947998046875\n"
          ]
        }
      ]
    },
    {
      "cell_type": "code",
      "source": [],
      "metadata": {
        "id": "DubI_BVYiEMe"
      },
      "execution_count": null,
      "outputs": []
    },
    {
      "cell_type": "markdown",
      "source": [
        "### Performance Improvement"
      ],
      "metadata": {
        "id": "iEiqaqYAiWD7"
      }
    },
    {
      "cell_type": "code",
      "source": [],
      "metadata": {
        "id": "Z3gPZeW-iaYo"
      },
      "execution_count": null,
      "outputs": []
    },
    {
      "cell_type": "code",
      "source": [
        "class Head(nn.Module):\n",
        "    def __init__(self, block_size, emb_dim, head_dim, status):\n",
        "        super().__init__()\n",
        "        self.k_w = nn.Linear(emb_dim, head_dim, bias=False)\n",
        "        self.q_w = nn.Linear(emb_dim, head_dim, bias=False)\n",
        "        self.v_w = nn.Linear(emb_dim, head_dim, bias=False)\n",
        "        # self.register_buffer(\"tril\", torch.tril(torch.ones(block_size, block_size)))\n",
        "        if status == \"decode\":\n",
        "            self.register_buffer(\"tril\", torch.tril(torch.ones(block_size, block_size)))\n",
        "        else:\n",
        "            self.register_buffer(\"tril\", None)\n",
        "\n",
        "        # self.dropout = nn.Dropout(dropout)\n",
        "\n",
        "    def forward(self, x):\n",
        "        B, T, C = x.shape\n",
        "        key = self.k_w(x) # (B,T,H), H = head_dim\n",
        "        query = self.q_w(x) # (B,T,H)\n",
        "        weights = query @ key.transpose(-2,-1) * C ** (-0.5) # (B,T,T)\n",
        "        # mask in training\n",
        "        if self.tril is not None:\n",
        "            weights.masked_fill(self.tril[:T,:T]==0, float('-inf'))\n",
        "\n",
        "        weights = F.softmax(weights, dim=-1) # softmax on last dimension, (B,T,T)\n",
        "        # weights = self.dropout(weights)\n",
        "\n",
        "        value = self.v_w(x) # (B,T,H)\n",
        "        output = weights @ value # (B,T,H)\n",
        "\n",
        "        return output, weights"
      ],
      "metadata": {
        "id": "OE53tkYQmI6S"
      },
      "execution_count": null,
      "outputs": []
    },
    {
      "cell_type": "code",
      "source": [
        "class MultiHead(nn.Module):\n",
        "    def __init__(self, num_head, block_size, n_embd, head_size, status):\n",
        "        super().__init__()\n",
        "        self.multi_heads = nn.ModuleList([Head(block_size, n_embd, head_size, status) for _ in range(num_head)])\n",
        "        self.proj = nn.Linear(n_embd, n_embd)\n",
        "        # self.dropout = nn.Dropout(dropout)\n",
        "\n",
        "    def forward(self, x):\n",
        "        out = torch.cat([head(x)[0] for head in self.multi_heads], dim=-1)\n",
        "        attn_maps = torch.stack([head(x)[1] for head in self.multi_heads])\n",
        "        out = self.proj(out)\n",
        "        # out = self.dropout(out)\n",
        "\n",
        "        return out, attn_maps"
      ],
      "metadata": {
        "id": "VMi551aBmI6T"
      },
      "execution_count": null,
      "outputs": []
    },
    {
      "cell_type": "code",
      "source": [
        "class TransformerDecoder(nn.Module):\n",
        "    def __init__(self, n_layer, vocab_size, n_embd, block_size, n_head, device=\"cpu\"):\n",
        "        super().__init__()\n",
        "        self.token_embedding_table = nn.Embedding(vocab_size, n_embd)\n",
        "        self.position_embedding_table = nn.Embedding(block_size, n_embd)\n",
        "        self.blocks = nn.ModuleList([\n",
        "            Block(n_head, block_size, n_embd, status=\"decode\") for _ in range(n_layer)\n",
        "        ])\n",
        "        # self.ln = nn.LayerNorm(n_embd)\n",
        "        self.v_back = nn.Linear(n_embd, vocab_size) # only used in decoder\n",
        "\n",
        "    def forward(self, idx, targets=None):\n",
        "        B, T = idx.shape\n",
        "\n",
        "        token_emb = self.token_embedding_table(idx) # (B,T,C)\n",
        "        pos_emb = self.position_embedding_table(torch.arange(T, device=device)) # (T.C)\n",
        "        x = token_emb + pos_emb # (B,T,C)\n",
        "        attn_maps = []\n",
        "        for block in self.blocks:\n",
        "            x, attn_map = block(x)\n",
        "            attn_maps.append(attn_map)\n",
        "\n",
        "        attn_maps = torch.cat(attn_maps, dim=0)\n",
        "\n",
        "\n",
        "        logits = self.v_back(x) # (B,T,vocab_size)\n",
        "\n",
        "        if targets is None:\n",
        "            loss = None\n",
        "        else:\n",
        "            B, T, C = logits.shape\n",
        "            logits = logits.view(B, C, T)\n",
        "            loss = F.cross_entropy(logits, targets)\n",
        "\n",
        "        return logits, loss, attn_maps"
      ],
      "metadata": {
        "id": "lCk0JROOmI6U"
      },
      "execution_count": null,
      "outputs": []
    },
    {
      "cell_type": "code",
      "source": [
        "# for the language modeling task, you will iterate over the training data for a fixed number of iterations like this:\n",
        "decoder = TransformerDecoder(\n",
        "                            n_layer,\n",
        "                            tokenizer.vocab_size,\n",
        "                            n_embd,\n",
        "                            block_size,\n",
        "                            n_head,\n",
        "                            device)\n",
        "\n",
        "lm_optimizer = torch.optim.AdamW(decoder.parameters(), lr=5e-3)\n",
        "# lm_loss_fn = torch.nn.CrossEntropyLoss()\n",
        "total_loss = 0.0\n",
        "for i, (xb, yb) in enumerate(train_LM_loader):\n",
        "    if i >= max_iters:\n",
        "        break\n",
        "    xb, yb = xb.to(device), yb.to(device)\n",
        "\n",
        "    # LM training code here\n",
        "    lm_optimizer.zero_grad()\n",
        "    # logits, _ = decoder(xb)  # Compute logits\n",
        "    _, loss, _ = decoder(xb, yb)\n",
        "    # loss = lm_loss_fn(logits.view(-1, tokenizer.vocab_size), yb.view(-1))  # Compute loss\n",
        "    loss.backward()  # Backpropagation\n",
        "    lm_optimizer.step()  # Update weights\n",
        "\n",
        "    total_loss += loss.item()\n",
        "\n",
        "    if (i+1) % 100 == 0:\n",
        "        avg_loss = total_loss / (i+1)\n",
        "        perplexity = compute_perplexity(decoder, train_LM_loader)\n",
        "        print(f\"Iters {i+1}/{max_iters}, Train Loss: {avg_loss:.4f}, Decoder perplexity: {perplexity}\")\n"
      ],
      "metadata": {
        "colab": {
          "base_uri": "https://localhost:8080/"
        },
        "outputId": "87e25cb6-ee1e-45f2-9200-1ae2e950cec3",
        "id": "3RG6MkMpmddn"
      },
      "execution_count": null,
      "outputs": [
        {
          "output_type": "stream",
          "name": "stdout",
          "text": [
            "Iters 100/500, Train Loss: 7.3951, Decoder perplexity: 884.3163452148438\n",
            "Iters 200/500, Train Loss: 6.9196, Decoder perplexity: 424.49713134765625\n",
            "Iters 300/500, Train Loss: 6.5817, Decoder perplexity: 287.6689758300781\n",
            "Iters 500/500, Train Loss: 6.1691, Decoder perplexity: 197.41268920898438\n"
          ]
        }
      ]
    },
    {
      "cell_type": "code",
      "source": [
        "inputfile = \"speechesdataset/test_LM_obama.txt\"\n",
        "with open(inputfile, 'r', encoding='utf-8') as f:\n",
        "    lmtestText = f.read()\n",
        "test_LM_dataset = LanguageModelingDataset(tokenizer, lmtestText,  block_size)\n",
        "test_LM_loader = DataLoader(test_LM_dataset, batch_size=batch_size, shuffle=True)\n",
        "perplexity = compute_perplexity(decoder, test_LM_loader)\n",
        "print(f\"Decoder perplexity: {perplexity}\")"
      ],
      "metadata": {
        "colab": {
          "base_uri": "https://localhost:8080/"
        },
        "outputId": "0087dfc7-957b-4254-f89f-64e2fb8f07c1",
        "id": "nIN3DJVFmddw"
      },
      "execution_count": null,
      "outputs": [
        {
          "output_type": "stream",
          "name": "stdout",
          "text": [
            "Decoder perplexity: 225.30105590820312\n"
          ]
        }
      ]
    },
    {
      "cell_type": "code",
      "source": [
        "inputfile = \"speechesdataset/test_LM_hbush.txt\"\n",
        "with open(inputfile, 'r', encoding='utf-8') as f:\n",
        "    lmtestText = f.read()\n",
        "test_LM_dataset = LanguageModelingDataset(tokenizer, lmtestText,  block_size)\n",
        "test_LM_loader = DataLoader(test_LM_dataset, batch_size=batch_size, shuffle=True)\n",
        "perplexity = compute_perplexity(decoder, test_LM_loader)\n",
        "print(f\"Decoder perplexity: {perplexity}\")"
      ],
      "metadata": {
        "colab": {
          "base_uri": "https://localhost:8080/"
        },
        "outputId": "421b94af-e8d2-4800-e6d6-45e043d67118",
        "id": "NYAEDLvxmddw"
      },
      "execution_count": null,
      "outputs": [
        {
          "output_type": "stream",
          "name": "stdout",
          "text": [
            "Decoder perplexity: 232.54989624023438\n"
          ]
        }
      ]
    },
    {
      "cell_type": "code",
      "source": [
        "inputfile = \"speechesdataset/test_LM_wbush.txt\"\n",
        "with open(inputfile, 'r', encoding='utf-8') as f:\n",
        "    lmtestText = f.read()\n",
        "test_LM_dataset = LanguageModelingDataset(tokenizer, lmtestText,  block_size)\n",
        "test_LM_loader = DataLoader(test_LM_dataset, batch_size=batch_size, shuffle=True)\n",
        "perplexity = compute_perplexity(decoder, test_LM_loader)\n",
        "print(f\"Decoder perplexity: {perplexity}\")"
      ],
      "metadata": {
        "colab": {
          "base_uri": "https://localhost:8080/"
        },
        "outputId": "1aa08776-ed24-4406-880c-9f2c5b6e2d45",
        "id": "0Khzb9NHmddx"
      },
      "execution_count": null,
      "outputs": [
        {
          "output_type": "stream",
          "name": "stdout",
          "text": [
            "Decoder perplexity: 254.0797576904297\n"
          ]
        }
      ]
    },
    {
      "cell_type": "markdown",
      "source": [
        "### Relative Position"
      ],
      "metadata": {
        "id": "xGul-DOc122B"
      }
    },
    {
      "cell_type": "code",
      "source": [],
      "metadata": {
        "id": "jUevT-3A2D-i"
      },
      "execution_count": null,
      "outputs": []
    },
    {
      "cell_type": "code",
      "source": [
        "class RelativePosition(nn.Module):\n",
        "\n",
        "    def __init__(self, num_units, max_relative_position):\n",
        "        super().__init__()\n",
        "        self.num_units = num_units\n",
        "        self.max_relative_position = max_relative_position\n",
        "        self.embeddings_table = nn.Parameter(torch.Tensor(max_relative_position * 2 + 1, num_units))\n",
        "        nn.init.xavier_uniform_(self.embeddings_table)\n",
        "\n",
        "    def forward(self, length_q, length_k):\n",
        "        range_vec_q = torch.arange(length_q)\n",
        "        range_vec_k = torch.arange(length_k)\n",
        "        distance_mat = range_vec_k[None, :] - range_vec_q[:, None] # traingle matrix for relative position\n",
        "        distance_mat_clipped = torch.clamp(distance_mat, -self.max_relative_position, self.max_relative_position)\n",
        "        final_mat = distance_mat_clipped + self.max_relative_position\n",
        "        final_mat = torch.LongTensor(final_mat)\n",
        "        embeddings = self.embeddings_table[final_mat]\n",
        "\n",
        "        return embeddings"
      ],
      "metadata": {
        "id": "tLvvGpmK2IKS"
      },
      "execution_count": null,
      "outputs": []
    },
    {
      "cell_type": "code",
      "source": [
        "class Head(nn.Module):\n",
        "    def __init__(self, block_size, emb_dim, head_dim, status):\n",
        "        super().__init__()\n",
        "        self.k_w = nn.Linear(emb_dim, head_dim)\n",
        "        self.q_w = nn.Linear(emb_dim, head_dim)\n",
        "        self.v_w = nn.Linear(emb_dim, head_dim)\n",
        "\n",
        "        self.relative_position_k = RelativePosition(head_dim, 32)\n",
        "        self.relative_position_v = RelativePosition(head_dim, 32)\n",
        "\n",
        "        if status == \"decode\":\n",
        "            self.register_buffer(\"tril\", torch.tril(torch.ones(block_size, block_size)))\n",
        "        else:\n",
        "            self.register_buffer(\"tril\", None)\n",
        "\n",
        "        # self.dropout = nn.Dropout(dropout)\n",
        "\n",
        "    def forward(self, x):\n",
        "        B, T, C = x.shape\n",
        "        key = self.k_w(x) # (B,T,H), H = head_dim，32\n",
        "        query = self.q_w(x) # (B,T,H)\n",
        "\n",
        "        _, _, H = key.shape\n",
        "\n",
        "\n",
        "        r_k = self.relative_position_k(T, T) # (T, T, H)\n",
        "        r_q = query.permute(1, 0, 2).contiguous().view(T, B, H)\n",
        "\n",
        "\n",
        "        # print(\"r_k shape:\", r_k.shape)\n",
        "\n",
        "        weights = query @ key.transpose(-2,-1) # (B,T,T)\n",
        "        # weights_2 = query @ r_k.transpose(-2,-1)\n",
        "        weights_2 = torch.matmul(r_q, r_k.transpose(1, 2)).transpose(0, 1) # (T, B, T) --> (B, T, T)\n",
        "        weights = weights + weights_2\n",
        "        weights = weights * C ** (-0.5)\n",
        "        # mask in training\n",
        "        if self.tril is not None:\n",
        "            weights = weights.masked_fill(self.tril[:T, :T] == 0, float('-inf'))\n",
        "\n",
        "        weights = F.softmax(weights, dim=-1) # softmax on last dimension, (B,T,T)\n",
        "        # weights = self.dropout(weights)\n",
        "\n",
        "        value = self.v_w(x) # (B,T,H)\n",
        "\n",
        "        r_v = self.relative_position_v(T, T) # (T, T, T)\n",
        "        w2 = weights.permute(1, 0, 2).contiguous().view(T, B, T)\n",
        "\n",
        "        # value_2 = weights @ r_v\n",
        "        value_2 = torch.matmul(w2, r_v).transpose(0, 1).view(B, T, H)\n",
        "\n",
        "        # print(\"r_v shape:\", r_v.shape)\n",
        "        output = weights @ value # (B,T,H)\n",
        "        output = output + value_2\n",
        "\n",
        "        return output, weights"
      ],
      "metadata": {
        "id": "IhDxIezc18qY"
      },
      "execution_count": null,
      "outputs": []
    },
    {
      "cell_type": "code",
      "source": [
        "class TransformerDecoder(nn.Module):\n",
        "    def __init__(self, n_layer, vocab_size, n_embd, block_size, n_head, device=\"cpu\"):\n",
        "        super().__init__()\n",
        "        self.token_embedding_table = nn.Embedding(vocab_size, n_embd)\n",
        "        # self.position_embedding_table = nn.Embedding(block_size, n_embd)\n",
        "        self.blocks = nn.ModuleList([\n",
        "            Block(n_head, block_size, n_embd, status=\"decode\") for _ in range(n_layer)\n",
        "        ])\n",
        "        # self.ln = nn.LayerNorm(n_embd)\n",
        "        self.v_back = nn.Linear(n_embd, vocab_size) # only used in decoder\n",
        "\n",
        "    def forward(self, idx, targets=None):\n",
        "        B, T = idx.shape\n",
        "\n",
        "        token_emb = self.token_embedding_table(idx) # (B,T,C)\n",
        "        # pos_emb = self.position_embedding_table(torch.arange(T, device=device)) # (T.C)\n",
        "        x = token_emb  # (B,T,C)\n",
        "        attn_maps = []\n",
        "        for block in self.blocks:\n",
        "            x, attn_map = block(x, pre_norm=False)\n",
        "            attn_maps.append(attn_map)\n",
        "\n",
        "        attn_maps = torch.cat(attn_maps, dim=0)\n",
        "\n",
        "\n",
        "        logits = self.v_back(x) # (B,T,vocab_size)\n",
        "\n",
        "        if targets is None:\n",
        "            loss = None\n",
        "        else:\n",
        "            B, T, C = logits.shape\n",
        "            # logits = logits.view(B, C, T)\n",
        "            # logits = logits.view(-1, C)\n",
        "            logits = logits.view(B*T, C)\n",
        "            # targets = targets.view(-1)\n",
        "            targets = targets.view(B*T)\n",
        "            loss = F.cross_entropy(logits, targets)\n",
        "\n",
        "        return logits, loss, attn_maps\n"
      ],
      "metadata": {
        "id": "XfpTUOx37UWr"
      },
      "execution_count": null,
      "outputs": []
    },
    {
      "cell_type": "code",
      "source": [
        "# for the language modeling task, you will iterate over the training data for a fixed number of iterations like this:\n",
        "decoder = TransformerDecoder(\n",
        "                            n_layer,\n",
        "                            tokenizer.vocab_size,\n",
        "                            n_embd,\n",
        "                            block_size,\n",
        "                            n_head,\n",
        "                            device)\n",
        "\n",
        "lm_optimizer = torch.optim.AdamW(decoder.parameters(), lr=1e-3)\n",
        "# lm_loss_fn = torch.nn.CrossEntropyLoss()\n",
        "total_loss = 0.0\n",
        "max_iters = 500\n",
        "for i, (xb, yb) in enumerate(train_LM_loader):\n",
        "    if i >= max_iters:\n",
        "        break\n",
        "    xb, yb = xb.to(device), yb.to(device)\n",
        "\n",
        "    # LM training code here\n",
        "    lm_optimizer.zero_grad()\n",
        "    # logits, _ = decoder(xb)  # Compute logits\n",
        "    _, loss, _ = decoder(xb, yb)\n",
        "    # loss = lm_loss_fn(logits.view(-1, tokenizer.vocab_size), yb.view(-1))  # Compute loss\n",
        "    loss.backward()  # Backpropagation\n",
        "    lm_optimizer.step()  # Update weights\n",
        "\n",
        "    total_loss += loss.item()\n",
        "\n",
        "    if (i+1) % 100 == 0:\n",
        "        avg_loss = total_loss / (i+1)\n",
        "        perplexity = compute_perplexity(decoder, train_LM_loader)\n",
        "        print(f\"Iters {i+1}/{max_iters}, Train Loss: {avg_loss:.4f}, Decoder perplexity: {perplexity}\")"
      ],
      "metadata": {
        "colab": {
          "base_uri": "https://localhost:8080/"
        },
        "id": "i2AReqaA7Qgc",
        "outputId": "5ed2e00c-6071-4f16-a26b-c8899c3bb442"
      },
      "execution_count": null,
      "outputs": [
        {
          "output_type": "stream",
          "name": "stdout",
          "text": [
            "Iters 100/500, Train Loss: 6.7977, Decoder perplexity: 456.7764587402344\n",
            "Iters 200/500, Train Loss: 6.3477, Decoder perplexity: 276.9987487792969\n",
            "Iters 300/500, Train Loss: 6.0519, Decoder perplexity: 192.58941650390625\n",
            "Iters 400/500, Train Loss: 5.8220, Decoder perplexity: 131.6434783935547\n",
            "Iters 500/500, Train Loss: 5.6293, Decoder perplexity: 102.30365753173828\n"
          ]
        }
      ]
    },
    {
      "cell_type": "code",
      "source": [
        "inputfile = \"speechesdataset/test_LM_obama.txt\"\n",
        "with open(inputfile, 'r', encoding='utf-8') as f:\n",
        "    lmtestText = f.read()\n",
        "test_LM_dataset = LanguageModelingDataset(tokenizer, lmtestText,  block_size)\n",
        "test_LM_loader = DataLoader(test_LM_dataset, batch_size=batch_size, shuffle=True)\n",
        "perplexity = compute_perplexity(decoder, test_LM_loader)\n",
        "print(f\"Decoder perplexity: {perplexity}\")"
      ],
      "metadata": {
        "colab": {
          "base_uri": "https://localhost:8080/"
        },
        "outputId": "70d94ffb-c334-4d98-ae62-88e1bc2bc38d",
        "id": "_lhDO7Z9eQaq"
      },
      "execution_count": null,
      "outputs": [
        {
          "output_type": "stream",
          "name": "stdout",
          "text": [
            "Decoder perplexity: 319.3480529785156\n"
          ]
        }
      ]
    },
    {
      "cell_type": "code",
      "source": [
        "inputfile = \"speechesdataset/test_LM_hbush.txt\"\n",
        "with open(inputfile, 'r', encoding='utf-8') as f:\n",
        "    lmtestText = f.read()\n",
        "test_LM_dataset = LanguageModelingDataset(tokenizer, lmtestText,  block_size)\n",
        "test_LM_loader = DataLoader(test_LM_dataset, batch_size=batch_size, shuffle=True)\n",
        "perplexity = compute_perplexity(decoder, test_LM_loader)\n",
        "print(f\"Decoder perplexity: {perplexity}\")"
      ],
      "metadata": {
        "colab": {
          "base_uri": "https://localhost:8080/"
        },
        "outputId": "f16f6c9d-1c86-4cb7-f323-022c8cacf162",
        "id": "A55XS_dWeQar"
      },
      "execution_count": null,
      "outputs": [
        {
          "output_type": "stream",
          "name": "stdout",
          "text": [
            "Decoder perplexity: 363.6004943847656\n"
          ]
        }
      ]
    },
    {
      "cell_type": "code",
      "source": [
        "inputfile = \"speechesdataset/test_LM_wbush.txt\"\n",
        "with open(inputfile, 'r', encoding='utf-8') as f:\n",
        "    lmtestText = f.read()\n",
        "test_LM_dataset = LanguageModelingDataset(tokenizer, lmtestText,  block_size)\n",
        "test_LM_loader = DataLoader(test_LM_dataset, batch_size=batch_size, shuffle=True)\n",
        "perplexity = compute_perplexity(decoder, test_LM_loader)\n",
        "print(f\"Decoder perplexity: {perplexity}\")"
      ],
      "metadata": {
        "colab": {
          "base_uri": "https://localhost:8080/"
        },
        "outputId": "503198b4-b4c5-482a-f107-b5da4f71c2b5",
        "id": "HDoAPeD8eQar"
      },
      "execution_count": null,
      "outputs": [
        {
          "output_type": "stream",
          "name": "stdout",
          "text": [
            "Decoder perplexity: 424.76947021484375\n"
          ]
        }
      ]
    },
    {
      "cell_type": "markdown",
      "source": [
        "# Statistic"
      ],
      "metadata": {
        "id": "uSDYhH-x3eVZ"
      }
    },
    {
      "cell_type": "code",
      "source": [
        "import re\n",
        "\n",
        "def count_distinct_words(file_path):\n",
        "    with open(file_path, 'r') as file:\n",
        "        text = file.read().lower()  # Convert text to lowercase to ensure case-insensitivity\n",
        "\n",
        "    # Use regular expressions to find all words\n",
        "    words = re.findall(r'\\b\\w+\\b', text)\n",
        "\n",
        "    # Create a set to store distinct words\n",
        "    distinct_words = set(words)\n",
        "\n",
        "    # Calculate the number of distinct words\n",
        "    number_of_distinct_words = len(distinct_words)\n",
        "\n",
        "    return number_of_distinct_words\n"
      ],
      "metadata": {
        "id": "t-SfOISDz0vE"
      },
      "execution_count": null,
      "outputs": []
    },
    {
      "cell_type": "code",
      "source": [
        "def count_unseen_words(file_path: str, tokenizer) -> int:\n",
        "    with open(file_path, 'r') as file:\n",
        "        text = file.read().lower()\n",
        "\n",
        "    # Use regular expressions to find all words\n",
        "    words = re.findall(r'\\b\\w+\\b', text)\n",
        "\n",
        "    # Create a set of words in the text\n",
        "    words_in_text = set(words)\n",
        "\n",
        "    # Create a set of words known to the tokenizer (excluding '<unk>')\n",
        "    known_words = set(tokenizer.stoi.keys()) - {'<unk>'}\n",
        "\n",
        "    # Find unseen words by checking which words are not in the vocabulary\n",
        "    unseen_words = words_in_text - known_words\n",
        "\n",
        "    # Return the number of unseen words\n",
        "    return len(unseen_words), unseen_words"
      ],
      "metadata": {
        "id": "5bce2jJi0mJT"
      },
      "execution_count": null,
      "outputs": []
    },
    {
      "cell_type": "code",
      "source": [
        "# Example usage\n",
        "file_path = 'speechesdataset/test_LM_obama.txt'\n",
        "distinct_word_count = count_distinct_words(file_path)\n",
        "n_unseen, _ = count_unseen_words(file_path, tokenizer)\n",
        "print(f\"The number of distinct words is {distinct_word_count}, unseen words {n_unseen}.\")"
      ],
      "metadata": {
        "colab": {
          "base_uri": "https://localhost:8080/"
        },
        "id": "bGZghdl6z2BP",
        "outputId": "958cdcb0-3366-41f2-9adb-f13509df20c0"
      },
      "execution_count": null,
      "outputs": [
        {
          "output_type": "stream",
          "name": "stdout",
          "text": [
            "The number of distinct words is 1430, unseen words 202.\n"
          ]
        }
      ]
    },
    {
      "cell_type": "code",
      "source": [
        "file_path = 'speechesdataset/test_LM_hbush.txt'\n",
        "distinct_word_count = count_distinct_words(file_path)\n",
        "n_unseen, _ = count_unseen_words(file_path, tokenizer)\n",
        "print(f\"The number of distinct words is {distinct_word_count}, unseen words {n_unseen}.\")"
      ],
      "metadata": {
        "colab": {
          "base_uri": "https://localhost:8080/"
        },
        "id": "c1CFNLebz7VE",
        "outputId": "d5127e1c-8a50-4fe1-9707-dd05a13d3546"
      },
      "execution_count": null,
      "outputs": [
        {
          "output_type": "stream",
          "name": "stdout",
          "text": [
            "The number of distinct words is 1312, unseen words 198.\n"
          ]
        }
      ]
    },
    {
      "cell_type": "code",
      "source": [
        "file_path = 'speechesdataset/test_LM_wbush.txt'\n",
        "distinct_word_count = count_distinct_words(file_path)\n",
        "n_unseen, _ = count_unseen_words(file_path, tokenizer)\n",
        "print(f\"The number of distinct words is {distinct_word_count}, unseen words {n_unseen}.\")"
      ],
      "metadata": {
        "colab": {
          "base_uri": "https://localhost:8080/"
        },
        "id": "fy-ocrWYz_sH",
        "outputId": "d3d818dc-6034-44e2-c34d-4e33e6470cf3"
      },
      "execution_count": null,
      "outputs": [
        {
          "output_type": "stream",
          "name": "stdout",
          "text": [
            "The number of distinct words is 1330, unseen words 174.\n"
          ]
        }
      ]
    }
  ]
}